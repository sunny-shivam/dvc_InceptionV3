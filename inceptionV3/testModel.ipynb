{
 "cells": [
  {
   "cell_type": "code",
   "execution_count": 1,
   "id": "11f7d3e5-05a8-4891-ad58-31083036c25c",
   "metadata": {},
   "outputs": [
    {
     "name": "stderr",
     "output_type": "stream",
     "text": [
      "2022-05-01 17:47:06.802046: W tensorflow/stream_executor/platform/default/dso_loader.cc:64] Could not load dynamic library 'libcudart.so.11.0'; dlerror: libcudart.so.11.0: cannot open shared object file: No such file or directory\n",
      "2022-05-01 17:47:06.802085: I tensorflow/stream_executor/cuda/cudart_stub.cc:29] Ignore above cudart dlerror if you do not have a GPU set up on your machine.\n"
     ]
    }
   ],
   "source": [
    "import os\n",
    "import zipfile\n",
    "import tensorflow as tf\n",
    "from tensorflow.keras.preprocessing.image import ImageDataGenerator\n",
    "from tensorflow.keras import Model\n",
    "import pickle\n",
    "import numpy as np\n",
    "from tensorflow import keras"
   ]
  },
  {
   "cell_type": "code",
   "execution_count": 12,
   "id": "370d4b93-ea62-40ee-98ff-2908e2330184",
   "metadata": {},
   "outputs": [
    {
     "data": {
      "text/plain": [
       "keras.engine.functional.Functional"
      ]
     },
     "execution_count": 12,
     "metadata": {},
     "output_type": "execute_result"
    }
   ],
   "source": [
    "filename = \"./myModel_pkl\"\n",
    "my_model =  pickle.load(open(filename, 'rb'))\n",
    "type(my_model)"
   ]
  },
  {
   "cell_type": "code",
   "execution_count": 3,
   "id": "a0cfec7d-3ed6-4de8-906a-2b086c2f897f",
   "metadata": {},
   "outputs": [],
   "source": [
    "def getAccuracyPercentage(y_class, accuracy):\n",
    "    accuracy_percentage = (accuracy*100)/len(y_class)\n",
    "    return accuracy_percentage "
   ]
  },
  {
   "cell_type": "code",
   "execution_count": 4,
   "id": "f6658486-10be-4ace-a6ec-2fab4290f424",
   "metadata": {},
   "outputs": [],
   "source": [
    "base_dir = '../test_data'\n",
    "\n",
    "test_cats_dir = os.path.join(base_dir, 'class_cats')\n",
    "test_dogs_dir = os.path.join(base_dir, 'class_dogs')"
   ]
  },
  {
   "cell_type": "code",
   "execution_count": 5,
   "id": "3c5be16c-7c45-4337-915b-83861b6583dc",
   "metadata": {},
   "outputs": [
    {
     "data": {
      "text/plain": [
       "keras.preprocessing.image.ImageDataGenerator"
      ]
     },
     "execution_count": 5,
     "metadata": {},
     "output_type": "execute_result"
    }
   ],
   "source": [
    "test_datagen = ImageDataGenerator( rescale = 1.0/255. )\n",
    "type(test_datagen)"
   ]
  },
  {
   "cell_type": "code",
   "execution_count": 6,
   "id": "2f9e55d4-c5da-4dbc-ac46-26bbbbc75c47",
   "metadata": {},
   "outputs": [
    {
     "name": "stdout",
     "output_type": "stream",
     "text": [
      "Found 17 images belonging to 1 classes.\n"
     ]
    }
   ],
   "source": [
    "test_generator_cats = test_datagen.flow_from_directory( test_cats_dir,  batch_size = 20, class_mode = 'binary', target_size = (224, 224))"
   ]
  },
  {
   "cell_type": "code",
   "execution_count": 7,
   "id": "80cb914e-4cfa-4efe-b392-714199865388",
   "metadata": {},
   "outputs": [
    {
     "name": "stdout",
     "output_type": "stream",
     "text": [
      "Found 10 images belonging to 1 classes.\n"
     ]
    }
   ],
   "source": [
    "test_generator_dogs = test_datagen.flow_from_directory( test_dogs_dir,  batch_size = 20, class_mode = 'binary', target_size = (224, 224))"
   ]
  },
  {
   "cell_type": "code",
   "execution_count": 13,
   "id": "39c372f9-bad5-455f-8b15-85602acb00af",
   "metadata": {},
   "outputs": [],
   "source": [
    "predict=my_model.predict(test_generator_cats)\n",
    "y_cats = predict.argmax(axis=-1)"
   ]
  },
  {
   "cell_type": "code",
   "execution_count": 14,
   "id": "a58c8609-eccf-4730-a16c-5b5f2007b611",
   "metadata": {},
   "outputs": [],
   "source": [
    "predict=my_model.predict(test_generator_dogs)\n",
    "y_dogs = predict.argmax(axis=-1)"
   ]
  },
  {
   "cell_type": "code",
   "execution_count": 15,
   "id": "1dddd723-0d73-4c38-867a-3d3d4472b15d",
   "metadata": {},
   "outputs": [
    {
     "name": "stdout",
     "output_type": "stream",
     "text": [
      "76.47058823529412\n"
     ]
    }
   ],
   "source": [
    "accuracy = len(y_cats) - y_cats.sum()\n",
    "print(getAccuracyPercentage(y_cats, accuracy))"
   ]
  },
  {
   "cell_type": "code",
   "execution_count": 16,
   "id": "6a17ed7d-5de6-4beb-9dd3-208f6353c264",
   "metadata": {},
   "outputs": [
    {
     "name": "stdout",
     "output_type": "stream",
     "text": [
      "90.0\n"
     ]
    }
   ],
   "source": [
    "accuracy = y_dogs.sum()\n",
    "print(getAccuracyPercentage(y_dogs, accuracy))"
   ]
  },
  {
   "cell_type": "code",
   "execution_count": null,
   "id": "998e8e4d-d9ec-45e1-aba0-3223aa463ed4",
   "metadata": {},
   "outputs": [],
   "source": []
  }
 ],
 "metadata": {
  "kernelspec": {
   "display_name": "Python 3 (ipykernel)",
   "language": "python",
   "name": "python3"
  },
  "language_info": {
   "codemirror_mode": {
    "name": "ipython",
    "version": 3
   },
   "file_extension": ".py",
   "mimetype": "text/x-python",
   "name": "python",
   "nbconvert_exporter": "python",
   "pygments_lexer": "ipython3",
   "version": "3.9.7"
  }
 },
 "nbformat": 4,
 "nbformat_minor": 5
}
